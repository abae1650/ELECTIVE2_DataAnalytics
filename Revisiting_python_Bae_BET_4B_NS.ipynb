{
  "nbformat": 4,
  "nbformat_minor": 0,
  "metadata": {
    "colab": {
      "provenance": [],
      "authorship_tag": "ABX9TyNqZCs3thIw9rHGN0kJf2uh",
      "include_colab_link": true
    },
    "kernelspec": {
      "name": "python3",
      "display_name": "Python 3"
    },
    "language_info": {
      "name": "python"
    }
  },
  "cells": [
    {
      "cell_type": "markdown",
      "metadata": {
        "id": "view-in-github",
        "colab_type": "text"
      },
      "source": [
        "<a href=\"https://colab.research.google.com/github/abae1650/ELECTIVE2_DataAnalytics/blob/main/Revisiting_python_Bae_BET_4B_NS.ipynb\" target=\"_parent\"><img src=\"https://colab.research.google.com/assets/colab-badge.svg\" alt=\"Open In Colab\"/></a>"
      ]
    },
    {
      "cell_type": "markdown",
      "source": [
        "© Arsenio Bae\n",
        "\n",
        "This notebook discusses revisitng pyhton in data analytics"
      ],
      "metadata": {
        "id": "Ga2w9KdrSLMx"
      }
    },
    {
      "cell_type": "markdown",
      "source": [
        "Part 1: Programming in Python"
      ],
      "metadata": {
        "id": "svhx931AUPNj"
      }
    },
    {
      "cell_type": "markdown",
      "source": [
        "Variables and Printing"
      ],
      "metadata": {
        "id": "uYAelHYrUSSM"
      }
    },
    {
      "cell_type": "code",
      "source": [
        "#int x = 0\n",
        "x = 0\n",
        "print (x)"
      ],
      "metadata": {
        "colab": {
          "base_uri": "https://localhost:8080/"
        },
        "id": "U3B8DsGXUUpy",
        "outputId": "1072b67d-e281-4f07-dcd4-04093a541d4c"
      },
      "execution_count": null,
      "outputs": [
        {
          "output_type": "stream",
          "name": "stdout",
          "text": [
            "0\n"
          ]
        }
      ]
    },
    {
      "cell_type": "code",
      "source": [
        "#Print the String\n",
        "print (\"Hello World!\")"
      ],
      "metadata": {
        "colab": {
          "base_uri": "https://localhost:8080/"
        },
        "id": "sSq9uUsVVCdy",
        "outputId": "50f196ea-9753-43fb-992f-f6e2c3df4f6c"
      },
      "execution_count": null,
      "outputs": [
        {
          "output_type": "stream",
          "name": "stdout",
          "text": [
            "Hello World!\n"
          ]
        }
      ]
    },
    {
      "cell_type": "code",
      "source": [
        "#Printing using concatenation\n",
        "fav_language = \"Python\"\n",
        "print (\"I like coding in \" + fav_language + \" the most\")"
      ],
      "metadata": {
        "colab": {
          "base_uri": "https://localhost:8080/"
        },
        "id": "7kIiHcNmWBjn",
        "outputId": "8d4fa903-cd29-4ca3-c7d5-8b5183d8e822"
      },
      "execution_count": null,
      "outputs": [
        {
          "output_type": "stream",
          "name": "stdout",
          "text": [
            "I like coding in Python the most\n"
          ]
        }
      ]
    },
    {
      "cell_type": "code",
      "source": [
        "surname = \"Bae\"\n",
        "print (\"Hello \" + surname)"
      ],
      "metadata": {
        "colab": {
          "base_uri": "https://localhost:8080/"
        },
        "id": "RNCjef22YIkF",
        "outputId": "0b4c19b1-4a3f-4b8c-a203-507d2099b8d5"
      },
      "execution_count": null,
      "outputs": [
        {
          "output_type": "stream",
          "name": "stdout",
          "text": [
            "Hello Bae\n"
          ]
        }
      ]
    },
    {
      "cell_type": "code",
      "source": [
        "#print a variable and a string in python using string formatting\n",
        "surname = \"Bae\"\n",
        "print (\"hello {}, hope you're well \". format(surname))"
      ],
      "metadata": {
        "colab": {
          "base_uri": "https://localhost:8080/"
        },
        "id": "dHSgXdHcYjiv",
        "outputId": "83b0a3fb-0950-43ca-8d07-b67ed4bc0237"
      },
      "execution_count": null,
      "outputs": [
        {
          "output_type": "stream",
          "name": "stdout",
          "text": [
            "hello Bae, hope you're well \n"
          ]
        }
      ]
    },
    {
      "cell_type": "code",
      "source": [],
      "metadata": {
        "id": "vz4ZKbkCd5U7"
      },
      "execution_count": null,
      "outputs": []
    }
  ]
}